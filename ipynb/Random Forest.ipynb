{
 "cells": [
  {
   "cell_type": "code",
   "execution_count": 12,
   "id": "6c3916be",
   "metadata": {},
   "outputs": [
    {
     "name": "stdout",
     "output_type": "stream",
     "text": [
      "Accuracy: 0.23809523809523808\n"
     ]
    }
   ],
   "source": [
    "from sklearn.ensemble import RandomForestClassifier\n",
    "from sklearn.model_selection import train_test_split\n",
    "from sklearn.metrics import accuracy_score\n",
    "import json\n",
    "import numpy as np\n",
    "import tensorflow as tf\n",
    "with open('training.json', 'r') as f:\n",
    "    data_dict = json.load(f)\n",
    "\n",
    "obj = {\n",
    "    \"Hand Close\": 0,\n",
    "    \"Thumb\": 1,\n",
    "    \"Index\": 2,\n",
    "    \"Middle\": 3,\n",
    "    \"Ring\": 4,\n",
    "    \"Pinky\": 5\n",
    "}\n",
    "    \n",
    "# extract the x and y data from the JSON dictionary\n",
    "X = [[int(x) for x in data['xs'].values()] for data in data_dict['data']]\n",
    "y = [obj[data['ys']['label']] for data in data_dict['data']]\n",
    "\n",
    "from sklearn.preprocessing import MinMaxScaler\n",
    "scaler = MinMaxScaler()\n",
    "X_norm = scaler.fit_transform(X)\n",
    "#print(x_data_norm)\n",
    "\n",
    "X = np.array(X_norm)\n",
    "y = np.array(y)\n",
    "\n",
    "y_c = tf.keras.utils.to_categorical(y, 6)\n",
    "X_train, X_test, y_train, y_test = train_test_split(X, y, test_size=0.2, random_state=42)\n",
    "\n",
    "# Create a Random Forest Classifier\n",
    "rf_classifier = RandomForestClassifier(n_estimators=512, random_state=128) # You can adjust hyperparameters as needed\n",
    "\n",
    "# Train the Random Forest Classifier\n",
    "rf_classifier.fit(X_train, y_train)\n",
    "\n",
    "# Make predictions on the test data\n",
    "y_pred = rf_classifier.predict(X_test)\n",
    "\n",
    "# Evaluate the accuracy of the classifier\n",
    "accuracy = accuracy_score(y_test, y_pred)\n",
    "print(\"Accuracy:\", accuracy)"
   ]
  },
  {
   "cell_type": "code",
   "execution_count": 13,
   "id": "81568e7f",
   "metadata": {},
   "outputs": [
    {
     "name": "stdout",
     "output_type": "stream",
     "text": [
      " Volume in drive C is PERSONAL\n",
      " Volume Serial Number is B665-E6CF\n",
      "\n",
      " Directory of C:\\Users\\chadn\\Downloads\\bionic-arm-code\\ipynb\n",
      "\n",
      "04/13/2023  12:50 PM    <DIR>          .\n",
      "04/13/2023  11:23 AM    <DIR>          ..\n",
      "04/13/2023  12:44 PM    <DIR>          .ipynb_checkpoints\n",
      "04/13/2023  12:41 PM           132,988 Accuracy_NN_1000.ipynb\n",
      "04/08/2023  03:11 PM           161,723 ANN-MODEL.ipynb\n",
      "04/13/2023  12:32 PM             5,275 KFold_Chatgpt_1000.ipynb\n",
      "04/13/2023  12:32 PM           734,524 KFold_Ref_Paper_1000.ipynb\n",
      "04/13/2023  11:50 AM           205,076 Model.ipynb\n",
      "04/13/2023  11:57 AM            33,744 NN_Normal_1000.ipynb\n",
      "04/13/2023  12:50 PM             2,561 Random Forest.ipynb\n",
      "04/13/2023  12:21 PM             3,342 SVM.ipynb\n",
      "04/08/2023  12:28 PM           142,940 testing.json\n",
      "04/08/2023  01:58 PM           928,993 testing5.json\n",
      "04/08/2023  12:49 PM         2,341,549 training.json\n",
      "04/08/2023  01:58 PM           357,328 training5.json\n",
      "              12 File(s)      5,050,043 bytes\n",
      "               3 Dir(s)  131,910,328,320 bytes free\n"
     ]
    }
   ],
   "source": [
    "ls\n"
   ]
  },
  {
   "cell_type": "code",
   "execution_count": 14,
   "id": "b7c93273",
   "metadata": {},
   "outputs": [
    {
     "name": "stdout",
     "output_type": "stream",
     "text": [
      "hello adnan\n"
     ]
    }
   ],
   "source": [
    "print(\"hello adnan\")"
   ]
  },
  {
   "cell_type": "code",
   "execution_count": 15,
   "id": "6b29fb11",
   "metadata": {},
   "outputs": [
    {
     "data": {
      "text/plain": [
       "10"
      ]
     },
     "execution_count": 15,
     "metadata": {},
     "output_type": "execute_result"
    }
   ],
   "source": [
    "5+5\n"
   ]
  },
  {
   "cell_type": "code",
   "execution_count": null,
   "id": "b424a047",
   "metadata": {},
   "outputs": [],
   "source": []
  },
  {
   "cell_type": "code",
   "execution_count": 16,
   "id": "f67ca33f",
   "metadata": {},
   "outputs": [
    {
     "name": "stdout",
     "output_type": "stream",
     "text": [
      "10\n"
     ]
    }
   ],
   "source": [
    "print(5+5)"
   ]
  }
 ],
 "metadata": {
  "kernelspec": {
   "display_name": "Python 3 (ipykernel)",
   "language": "python",
   "name": "python3"
  },
  "language_info": {
   "codemirror_mode": {
    "name": "ipython",
    "version": 3
   },
   "file_extension": ".py",
   "mimetype": "text/x-python",
   "name": "python",
   "nbconvert_exporter": "python",
   "pygments_lexer": "ipython3",
   "version": "3.10.9"
  }
 },
 "nbformat": 4,
 "nbformat_minor": 5
}
