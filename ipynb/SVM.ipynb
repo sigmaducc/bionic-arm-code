{
 "cells": [
  {
   "cell_type": "code",
   "execution_count": 17,
   "id": "7c83f159",
   "metadata": {},
   "outputs": [
    {
     "name": "stdout",
     "output_type": "stream",
     "text": [
      "102\n"
     ]
    }
   ],
   "source": [
    "import tensorflow as tf\n",
    "from tensorflow.keras import layers\n",
    "import json\n",
    "import numpy as np\n",
    "from sklearn.model_selection import train_test_split\n",
    "from sklearn.svm import SVC\n",
    "from sklearn.metrics import accuracy_score\n",
    "\n",
    "num_classes = 6\n",
    "with open('training.json', 'r') as f:\n",
    "    data_dict = json.load(f)\n",
    "\n",
    "obj = {\n",
    "    \"Hand Close\": 0,\n",
    "    \"Thumb\": 1,\n",
    "    \"Index\": 2,\n",
    "    \"Middle\": 3,\n",
    "    \"Ring\": 4,\n",
    "    \"Pinky\": 5\n",
    "}\n",
    "    \n",
    "# extract the x and y data from the JSON dictionary\n",
    "X = [[int(x) for x in data['xs'].values()] for data in data_dict['data']]\n",
    "y = [obj[data['ys']['label']] for data in data_dict['data']]\n",
    "\n",
    "from sklearn.preprocessing import MinMaxScaler\n",
    "scaler = MinMaxScaler()\n",
    "X_norm = scaler.fit_transform(X)\n",
    "#print(x_data_norm)\n",
    "\n",
    "X = np.array(X_norm)\n",
    "y = np.array(y)\n",
    "\n",
    "y_c = tf.keras.utils.to_categorical(y, num_classes)\n",
    "\n",
    "\n",
    "X_train, X_test, y_train, y_test = train_test_split(X, y, test_size=0.2, random_state=42)\n",
    "\n",
    "#print(X_train, X_test, y_train, y_test)\n",
    "\n",
    "svm = SVC(kernel='linear')\n",
    "\n",
    "# Train the SVM classifier\n",
    "svm.fit(X_train, y_train)\n",
    "\n",
    "# Make predictions on the testing set\n",
    "y_pred = svm.predict(X_test)\n",
    "\n",
    "accuracy = accuracy_score(y_test, y_pred)\n",
    "\n",
    "# Print the accuracy\n",
    "#print(\"Accuracy: {:.2f}%\".format(accuracy * 100))\n",
    "\n",
    "from sklearn.decomposition import PCA\n",
    "\n",
    "n_components = 9  # Specify the number of components you want to keep after PCA\n",
    "pca = PCA(n_components=n_components)\n",
    "\n",
    "# Perform PCA on the feature data\n",
    "X_pca = pca.fit_transform(X)\n",
    "\n",
    "# Access the principal components (eigenvectors) and their corresponding explained variance ratio\n",
    "principal_components = pca.components_\n",
    "explained_variance_ratio = pca.explained_variance_ratio_\n",
    "\n",
    "# Access the transformed feature data (i.e., the reduced-dimensional data)\n",
    "X_pca = pca.transform(X)\n",
    "print(len(X_pca))"
   ]
  },
  {
   "cell_type": "code",
   "execution_count": null,
   "id": "d35fe5db",
   "metadata": {},
   "outputs": [],
   "source": []
  },
  {
   "cell_type": "code",
   "execution_count": null,
   "id": "ba0e2443",
   "metadata": {},
   "outputs": [],
   "source": []
  }
 ],
 "metadata": {
  "kernelspec": {
   "display_name": "Python 3 (ipykernel)",
   "language": "python",
   "name": "python3"
  },
  "language_info": {
   "codemirror_mode": {
    "name": "ipython",
    "version": 3
   },
   "file_extension": ".py",
   "mimetype": "text/x-python",
   "name": "python",
   "nbconvert_exporter": "python",
   "pygments_lexer": "ipython3",
   "version": "3.10.9"
  }
 },
 "nbformat": 4,
 "nbformat_minor": 5
}
